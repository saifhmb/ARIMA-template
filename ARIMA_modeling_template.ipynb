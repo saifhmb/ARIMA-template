{
  "nbformat": 4,
  "nbformat_minor": 0,
  "metadata": {
    "colab": {
      "provenance": [],
      "authorship_tag": "ABX9TyMsCNa+GBssFetNRZlRAL2K",
      "include_colab_link": true
    },
    "kernelspec": {
      "name": "python3",
      "display_name": "Python 3"
    },
    "language_info": {
      "name": "python"
    }
  },
  "cells": [
    {
      "cell_type": "markdown",
      "metadata": {
        "id": "view-in-github",
        "colab_type": "text"
      },
      "source": [
        "<a href=\"https://colab.research.google.com/github/saifhmb/ARIMA-template/blob/main/ARIMA_modeling_template.ipynb\" target=\"_parent\"><img src=\"https://colab.research.google.com/assets/colab-badge.svg\" alt=\"Open In Colab\"/></a>"
      ]
    },
    {
      "cell_type": "markdown",
      "source": [
        "# Import Libraries"
      ],
      "metadata": {
        "id": "yfoRsax0TyWM"
      }
    },
    {
      "cell_type": "code",
      "source": [
        "import pandas as pd\n",
        "import numpy as np\n",
        "import matplotlib.pyplot as plt\n",
        "from statsmodels.tsa.stattools import adfuller\n",
        "from statsmodels.graphics.tsaplots import plot_acf, plot_pacf\n",
        "from statsmodels.tsa.arima.model import ARIMA\n",
        "from statsmodels.tsa.seasonal import seasonal_decompose\n",
        "from statsmodels.tsa.statespace.sarimax import SARIMAX\n",
        "!pip install pmdarima\n",
        "import pmdarima as pm"
      ],
      "metadata": {
        "id": "JbfSHuJ5UF5t",
        "colab": {
          "base_uri": "https://localhost:8080/"
        },
        "outputId": "92446087-6edc-4c33-f89d-6edba5050423"
      },
      "execution_count": 2,
      "outputs": [
        {
          "output_type": "stream",
          "name": "stdout",
          "text": [
            "Collecting pmdarima\n",
            "  Downloading pmdarima-2.0.4-cp311-cp311-manylinux_2_17_x86_64.manylinux2014_x86_64.manylinux_2_28_x86_64.whl.metadata (7.8 kB)\n",
            "Requirement already satisfied: joblib>=0.11 in /usr/local/lib/python3.11/dist-packages (from pmdarima) (1.4.2)\n",
            "Requirement already satisfied: Cython!=0.29.18,!=0.29.31,>=0.29 in /usr/local/lib/python3.11/dist-packages (from pmdarima) (3.0.11)\n",
            "Requirement already satisfied: numpy>=1.21.2 in /usr/local/lib/python3.11/dist-packages (from pmdarima) (1.26.4)\n",
            "Requirement already satisfied: pandas>=0.19 in /usr/local/lib/python3.11/dist-packages (from pmdarima) (2.2.2)\n",
            "Requirement already satisfied: scikit-learn>=0.22 in /usr/local/lib/python3.11/dist-packages (from pmdarima) (1.6.1)\n",
            "Requirement already satisfied: scipy>=1.3.2 in /usr/local/lib/python3.11/dist-packages (from pmdarima) (1.13.1)\n",
            "Requirement already satisfied: statsmodels>=0.13.2 in /usr/local/lib/python3.11/dist-packages (from pmdarima) (0.14.4)\n",
            "Requirement already satisfied: urllib3 in /usr/local/lib/python3.11/dist-packages (from pmdarima) (2.3.0)\n",
            "Requirement already satisfied: setuptools!=50.0.0,>=38.6.0 in /usr/local/lib/python3.11/dist-packages (from pmdarima) (75.1.0)\n",
            "Requirement already satisfied: packaging>=17.1 in /usr/local/lib/python3.11/dist-packages (from pmdarima) (24.2)\n",
            "Requirement already satisfied: python-dateutil>=2.8.2 in /usr/local/lib/python3.11/dist-packages (from pandas>=0.19->pmdarima) (2.8.2)\n",
            "Requirement already satisfied: pytz>=2020.1 in /usr/local/lib/python3.11/dist-packages (from pandas>=0.19->pmdarima) (2024.2)\n",
            "Requirement already satisfied: tzdata>=2022.7 in /usr/local/lib/python3.11/dist-packages (from pandas>=0.19->pmdarima) (2025.1)\n",
            "Requirement already satisfied: threadpoolctl>=3.1.0 in /usr/local/lib/python3.11/dist-packages (from scikit-learn>=0.22->pmdarima) (3.5.0)\n",
            "Requirement already satisfied: patsy>=0.5.6 in /usr/local/lib/python3.11/dist-packages (from statsmodels>=0.13.2->pmdarima) (1.0.1)\n",
            "Requirement already satisfied: six>=1.5 in /usr/local/lib/python3.11/dist-packages (from python-dateutil>=2.8.2->pandas>=0.19->pmdarima) (1.17.0)\n",
            "Downloading pmdarima-2.0.4-cp311-cp311-manylinux_2_17_x86_64.manylinux2014_x86_64.manylinux_2_28_x86_64.whl (2.2 MB)\n",
            "\u001b[2K   \u001b[90m━━━━━━━━━━━━━━━━━━━━━━━━━━━━━━━━━━━━━━━━\u001b[0m \u001b[32m2.2/2.2 MB\u001b[0m \u001b[31m16.4 MB/s\u001b[0m eta \u001b[36m0:00:00\u001b[0m\n",
            "\u001b[?25hInstalling collected packages: pmdarima\n",
            "Successfully installed pmdarima-2.0.4\n"
          ]
        }
      ]
    },
    {
      "cell_type": "markdown",
      "source": [
        "# Box Jenkins Modeling Framework"
      ],
      "metadata": {
        "id": "EkqIx8cmJBLF"
      }
    },
    {
      "cell_type": "markdown",
      "source": [
        "#Identification"
      ],
      "metadata": {
        "id": "Gi_I3hnVSTYb"
      }
    },
    {
      "cell_type": "markdown",
      "source": [
        "## Plot the time series - df.plot()\n",
        "\n"
      ],
      "metadata": {
        "id": "pHSTI4h-SeIa"
      }
    },
    {
      "cell_type": "code",
      "execution_count": null,
      "metadata": {
        "id": "wWSskA4USLFt"
      },
      "outputs": [],
      "source": []
    },
    {
      "cell_type": "markdown",
      "source": [
        "## Use augmented Dicky-Fuller test to test for stationarity - adfuller( )"
      ],
      "metadata": {
        "id": "tU20CdAlSw7e"
      }
    },
    {
      "cell_type": "code",
      "source": [],
      "metadata": {
        "id": "5pdCIq-IS39a"
      },
      "execution_count": null,
      "outputs": []
    },
    {
      "cell_type": "markdown",
      "source": [
        "## Test for seasonality using seasonal_decompose()\n",
        "\n",
        "\n"
      ],
      "metadata": {
        "id": "tNfr0v3M9n0q"
      }
    },
    {
      "cell_type": "code",
      "source": [],
      "metadata": {
        "id": "MhP9CbI092lb"
      },
      "execution_count": null,
      "outputs": []
    },
    {
      "cell_type": "markdown",
      "source": [
        "## Use transforms and/or differencing if Dicky-Fuller test reveals time series is non-stationary\n",
        "\n",
        "\n",
        "*   df.diff(), np.log(), np.sqrt()\n",
        "\n"
      ],
      "metadata": {
        "id": "sQS-dmgZS8d4"
      }
    },
    {
      "cell_type": "code",
      "source": [],
      "metadata": {
        "id": "0A51oHL_TUje"
      },
      "execution_count": null,
      "outputs": []
    },
    {
      "cell_type": "markdown",
      "source": [
        "## Plot ACF/PACF - plot_acf( ), plot_pacf( )"
      ],
      "metadata": {
        "id": "szJ527oLTg2D"
      }
    },
    {
      "cell_type": "code",
      "source": [],
      "metadata": {
        "id": "hClDk1v7Trl2"
      },
      "execution_count": null,
      "outputs": []
    },
    {
      "cell_type": "markdown",
      "source": [
        "# Estimation"
      ],
      "metadata": {
        "id": "PaTIPFG9Tvyb"
      }
    },
    {
      "cell_type": "markdown",
      "source": [
        "## Use the data to train the model coefficients - ARIMA( ), model.fit()"
      ],
      "metadata": {
        "id": "YmSGBpJCVbYx"
      }
    },
    {
      "cell_type": "code",
      "source": [],
      "metadata": {
        "id": "AIDswiaUVaIP"
      },
      "execution_count": null,
      "outputs": []
    },
    {
      "cell_type": "markdown",
      "source": [
        "## Choose between models using AIC and BIC - results.aic, results.bic"
      ],
      "metadata": {
        "id": "ayNfHKtMWghs"
      }
    },
    {
      "cell_type": "code",
      "source": [],
      "metadata": {
        "id": "KjGZp1NOWkXl"
      },
      "execution_count": null,
      "outputs": []
    },
    {
      "cell_type": "markdown",
      "source": [
        "# Model diagnostics"
      ],
      "metadata": {
        "id": "iJFQjtogWt6C"
      }
    },
    {
      "cell_type": "markdown",
      "source": [
        "## Determine whether residuals are uncorrelated and normally distributed - results.plot_diagnostics(), results.summary()"
      ],
      "metadata": {
        "id": "wwzbrcnFW07H"
      }
    },
    {
      "cell_type": "code",
      "source": [],
      "metadata": {
        "id": "eB_lkx1iWztF"
      },
      "execution_count": null,
      "outputs": []
    },
    {
      "cell_type": "markdown",
      "source": [
        "# Production"
      ],
      "metadata": {
        "id": "HOJ0RjAXXSqV"
      }
    },
    {
      "cell_type": "markdown",
      "source": [
        "## Make forecasts - results.get_forecast().predicted_mean\n",
        "\n",
        "---\n",
        "\n"
      ],
      "metadata": {
        "id": "65m1Dq9TXVTz"
      }
    },
    {
      "cell_type": "code",
      "source": [],
      "metadata": {
        "id": "FP5VBJLsXUf0"
      },
      "execution_count": null,
      "outputs": []
    }
  ]
}